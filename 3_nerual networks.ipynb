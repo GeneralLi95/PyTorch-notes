{
 "cells": [
  {
   "cell_type": "markdown",
   "metadata": {},
   "source": [
    "# 神经网络\n",
    "神经网络可以使用 `torch.nn`这个包来构建\n",
    "\n",
    "前面我们已经了解过 `autograd` 包。 `nn` 包依赖于`autograd` 来定义模型和对其求导。一个 `nn.Module`包含层(layers)，和一个方法`forward(input)`返回`output`.\n",
    "\n",
    "一个典型的神经网络训练过程包含以下步骤：\n",
    "* 定义一个包含一些科学系的参数（权重）的神经网络\n",
    "* 遍历输入的数据集\n",
    "* 计算损失（结果到正确值之间的距离）\n",
    "* 将修正值传回网络参数(Propagate gradients back into the network's parameters)\n",
    "* 更新权重，典型的方式是一种简单的更新规则: `weight = weight - learning_rate * gradient `"
   ]
  },
  {
   "cell_type": "markdown",
   "metadata": {},
   "source": [
    "## 定义一个网络\n"
   ]
  },
  {
   "cell_type": "code",
   "execution_count": null,
   "metadata": {},
   "outputs": [],
   "source": [
    "import torch\n",
    "import torch.nn as nn\n",
    "import torch.nn.functional as F\n",
    "\n",
    "class Net(nn.Module):\n",
    "    \n",
    "    def __init__(self):\n",
    "        super(Net, self).__init__()\n",
    "        # 1 input image channel, 6 output channels, 3x3 square convolution\n",
    "        # kernel\n",
    "        self.conv1 = nn.Conv2d(1, 6, 3)\n",
    "        self.conv2 = nn.Conv2d(6, 16, 3)\n",
    "        # an affine operation : y = Wx + b\n",
    "        self.fc1 = nn.Linear(16 * 6 * 6, 120)  # 6*6 from image dimension\n",
    "        self.fc2 = nn.Linear(120, 84) # f5 第五层\n",
    "        self.fc3 = nn.Linear(84, 10) # f6第六层\n",
    "        \n",
    "    "
   ]
  }
 ],
 "metadata": {
  "kernelspec": {
   "display_name": "Python 3",
   "language": "python",
   "name": "python3"
  },
  "language_info": {
   "codemirror_mode": {
    "name": "ipython",
    "version": 3
   },
   "file_extension": ".py",
   "mimetype": "text/x-python",
   "name": "python",
   "nbconvert_exporter": "python",
   "pygments_lexer": "ipython3",
   "version": "3.6.5"
  }
 },
 "nbformat": 4,
 "nbformat_minor": 2
}
