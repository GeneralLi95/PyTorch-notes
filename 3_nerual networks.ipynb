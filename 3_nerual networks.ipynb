{
 "cells": [
  {
   "cell_type": "markdown",
   "metadata": {},
   "source": [
    "# 神经网络\n",
    "神经网络可以使用 `torch.nn`这个包来构建\n",
    "\n",
    "前面我们已经了解过 `autograd` 包。 `nn` 包依赖于`autograd` 来定义模型和对其求导。一个 `nn.Module`包含层(layers)，和一个方法`forward(input)`返回`output`.\n",
    "\n",
    "一个典型的神经网络训练过程包含以下步骤：\n",
    "* 定义一个包含一些科学系的参数（权重）的神经网络\n",
    "* 遍历输入的数据集\n",
    "* 计算损失（结果到正确值之间的距离）\n",
    "* 将修正值传回网络参数(Propagate gradients back into the network's parameters)\n",
    "* 更新权重，典型的方式是一种简单的更新规则: `weight = weight - learning_rate * gradient `\n"
   ]
  },
  {
   "cell_type": "markdown",
   "metadata": {},
   "source": [
    "## 定义一个网络\n"
   ]
  },
  {
   "cell_type": "code",
   "execution_count": 14,
   "metadata": {},
   "outputs": [
    {
     "name": "stdout",
     "output_type": "stream",
     "text": [
      "Net(\n",
      "  (conv1): Conv2d(1, 6, kernel_size=(3, 3), stride=(1, 1))\n",
      "  (conv2): Conv2d(6, 16, kernel_size=(3, 3), stride=(1, 1))\n",
      "  (fc1): Linear(in_features=576, out_features=120, bias=True)\n",
      "  (fc2): Linear(in_features=120, out_features=84, bias=True)\n",
      "  (fc3): Linear(in_features=84, out_features=10, bias=True)\n",
      ")\n"
     ]
    }
   ],
   "source": [
    "import torch\n",
    "import torch.nn as nn\n",
    "import torch.nn.functional as F\n",
    "\n",
    "class Net(nn.Module):\n",
    "    \n",
    "    def __init__(self):\n",
    "        super(Net, self).__init__()\n",
    "        # 1 input image channel, 6 output channels, 3x3 square convolution\n",
    "        # kernel\n",
    "        self.conv1 = nn.Conv2d(1, 6, 3)\n",
    "        self.conv2 = nn.Conv2d(6, 16, 3)\n",
    "        # an affine operation : y = Wx + b\n",
    "        self.fc1 = nn.Linear(16 * 6 * 6, 120)  # 6*6 from image dimension\n",
    "        self.fc2 = nn.Linear(120, 84) # f5 第五层\n",
    "        self.fc3 = nn.Linear(84, 10) # f6第六层\n",
    "        \n",
    "    def forward(self, x):\n",
    "        # Max pooling over (2, 2) window\n",
    "        x = F.max_pool2d(F.relu(self.conv1(x)), (2, 2))\n",
    "        # If the size is a square you can only specify a single number\n",
    "        x = F.max_pool2d(F.relu(self.conv2(x)), 2)\n",
    "        x = x.view(-1, self.num_flat_features(x))\n",
    "        x = F.relu(self.fc1(x))\n",
    "        x = F.relu(self.fc2(x))\n",
    "        x = self.fc3(x)\n",
    "        return x\n",
    "    \n",
    "    def num_flat_features(self, x):\n",
    "        size = x.size()[1:]\n",
    "        num_features = 1\n",
    "        for s in size:\n",
    "            num_features *= s\n",
    "        return num_features\n",
    "    \n",
    "net = Net()\n",
    "print(net)\n",
    "        "
   ]
  },
  {
   "cell_type": "markdown",
   "metadata": {},
   "source": [
    "刚才我们只定义了 `forward` 函数，而 `backward` 函数(计算梯度的地方)是由`autograd`自动定义的。在`forward`里面我们可以使用任何的 Tensor operation。\n",
    "\n",
    "可学习的参数由 `net.parameters()` 返回"
   ]
  },
  {
   "cell_type": "code",
   "execution_count": 15,
   "metadata": {},
   "outputs": [
    {
     "name": "stdout",
     "output_type": "stream",
     "text": [
      "10\n",
      "torch.Size([6, 1, 3, 3])\n"
     ]
    }
   ],
   "source": [
    "params = list(net.parameters())\n",
    "print(len(params))\n",
    "print(params[0].size())"
   ]
  },
  {
   "cell_type": "markdown",
   "metadata": {},
   "source": [
    "尝试一下 32x32 的输入。注意：这个 LeNet的输入是 32x32。如果要在 MNIST数据集上使用这个网络，需要将图片 resize 到 32 x 32。"
   ]
  },
  {
   "cell_type": "code",
   "execution_count": 16,
   "metadata": {},
   "outputs": [
    {
     "name": "stdout",
     "output_type": "stream",
     "text": [
      "tensor([[ 0.0270, -0.0062, -0.1134,  0.0311,  0.0040, -0.0035, -0.0098,  0.0200,\n",
      "          0.0368,  0.1061]], grad_fn=<AddmmBackward>)\n"
     ]
    }
   ],
   "source": [
    "input = torch.randn(1, 1, 32,32)\n",
    "out = net(input)\n",
    "print(out)"
   ]
  },
  {
   "cell_type": "markdown",
   "metadata": {},
   "source": [
    "将梯度内存里的所有参数清零，并反向传播随机的梯度(Zero the gradient of all parameters and backprops with random gradients):"
   ]
  },
  {
   "cell_type": "code",
   "execution_count": null,
   "metadata": {},
   "outputs": [],
   "source": [
    "net.zero_grad()\n",
    "out.backward(torch,randn(1, 10))"
   ]
  },
  {
   "cell_type": "markdown",
   "metadata": {},
   "source": [
    "> `torch.nn` 只支持mini-batches. 整个 `torch.nn`包只支持输入是样本的`mini-batch`，并且不是单样本的。\n",
    ">\n",
    "> 比如，`nn.Conv2d` 将输入一个4维的 Tensor，四个维度是 `nSamples x nChannels x Height x Width`\n",
    ">\n",
    "> 如果你只有一个单变量，就使用 `input.unsqueeze(0)` 来添加一个假的batch dimiension"
   ]
  },
  {
   "cell_type": "markdown",
   "metadata": {},
   "source": [
    "在往后继续学习之前，我们概括一下目前学过的。\n",
    "### 概括\n",
    "* `torch.Tensor` 一个多维数组支持自动求导操作比如 `backward()`. 同时holds the gradient w.r.t the tensor.\n",
    "* `nn.Module` 神经网络模块，可以很方便的封装参数，同时有很好的迁移到GPU、导出、加载等的组件。\n",
    "* `nn.Parameter`一种张量，当作为一个`Module`的属性的时候会自动被看作是一种参数\n",
    "* `autograd.Function` 实现自动分级操作的前向和后向定义。 每个Tensor操作都会创建至少一个Function节点，该节点连接到创建Tensor并对其历史进行编码的函数。\n",
    "\n",
    "### 截止目前我们学习了\n",
    "\n",
    "* 定义一个神经网络\n",
    "* 处理了·输入和反向传播\n",
    "\n",
    "### 尚未学习的\n",
    "* 计算损失\n",
    "* 更新网络的权重"
   ]
  },
  {
   "cell_type": "markdown",
   "metadata": {},
   "source": [
    "## 损失函数"
   ]
  },
  {
   "cell_type": "code",
   "execution_count": null,
   "metadata": {},
   "outputs": [],
   "source": []
  }
 ],
 "metadata": {
  "kernelspec": {
   "display_name": "Python 3",
   "language": "python",
   "name": "python3"
  },
  "language_info": {
   "codemirror_mode": {
    "name": "ipython",
    "version": 3
   },
   "file_extension": ".py",
   "mimetype": "text/x-python",
   "name": "python",
   "nbconvert_exporter": "python",
   "pygments_lexer": "ipython3",
   "version": "3.6.5"
  }
 },
 "nbformat": 4,
 "nbformat_minor": 2
}
