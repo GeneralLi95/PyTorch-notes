{
 "cells": [
  {
   "cell_type": "markdown",
   "metadata": {},
   "source": [
    "# AUTOGRAD: AUTOMATIC DIFFERENTIATION\n",
    "PyTorch 的中心包是 `autograd`包。\n",
    "\n",
    "`autograd` 包提供了，Tensors上所有操作的自动分化。这是一个 define-by-run 的框架，这意味着您的反向传播代码是由代码运行方式决定，所以可能每次迭代都不同。\n",
    "\n",
    "我们可以通过几个例子来看\n",
    "\n",
    "## Tensor\n",
    "\n",
    "`torch.Tensor` 是这个包的核心 class. 如果我们将它的属性(attribute) `.requires_grad` 设置为 `True`,它将开始记录所有运算。当你完成计算时你可以用 `.backward()` 将所有梯度的渐变自动计算出来，这个 Tensor 的梯度也会被累积到 `.grad` 属性里。\n",
    "\n",
    "要停止 Tensor 追踪历史记录，可以用 `.detach()`将其从计算历史记录里剥离出来，可以避免后续的计算被记录。\n",
    "\n",
    "为了防止追踪历史记录（以及使用内存），你也可以将代码块用 `torch.no_grad()`包装起来。这在评估模型的时候尤其有用，这是因为模型可能具有可训练的参数，并且 `requires_grad=True`，但是我们不需要这些梯度。\n",
    "\n",
    "另外还有一个 class 对于自动分级来说非常重要，它是 `Function`.\n",
    "\n",
    "`Tensor` 和 `Function`互相连接，形成一个无环图，该图对完整的计算历史进行编码。每一个 Tensor 都有一个 `.grad_fn` 的属性，指向一个 `Function`，这个 `Function` 是创建这个 `Tensor`的（除了 有部分用户 创建的 Tensors 它们的 `grad_fn` 是 None）\n",
    "\n",
    "如果你想计算导数(derivatives)，你可以使用在Tensor上使用 `.backward()`。如果 `Tensor`是一个标量(scalar, 代表其是一个单元素数据)，您无需为 `backward()` 指定任何参数，然而如果它有更多的元素，则我们需要指定一个 `gradient` 参数，来匹配 Tensor的形状。\n",
    "\n"
   ]
  },
  {
   "cell_type": "code",
   "execution_count": 1,
   "metadata": {},
   "outputs": [],
   "source": [
    "import torch"
   ]
  },
  {
   "cell_type": "markdown",
   "metadata": {},
   "source": [
    "创建一个 Tensor 并且设置 `require_grad=True` 来跟踪计算"
   ]
  },
  {
   "cell_type": "code",
   "execution_count": 2,
   "metadata": {},
   "outputs": [
    {
     "name": "stdout",
     "output_type": "stream",
     "text": [
      "tensor([[1., 1.],\n",
      "        [1., 1.]], requires_grad=True)\n"
     ]
    }
   ],
   "source": [
    "x = torch.ones(2,2, requires_grad=True)\n",
    "print(x)"
   ]
  },
  {
   "cell_type": "markdown",
   "metadata": {},
   "source": [
    "做一个 tensor 计算"
   ]
  },
  {
   "cell_type": "code",
   "execution_count": 3,
   "metadata": {},
   "outputs": [
    {
     "name": "stdout",
     "output_type": "stream",
     "text": [
      "tensor([[3., 3.],\n",
      "        [3., 3.]], grad_fn=<AddBackward0>)\n"
     ]
    }
   ],
   "source": [
    "y = x + 2\n",
    "print(y)"
   ]
  },
  {
   "cell_type": "markdown",
   "metadata": {},
   "source": [
    "`y`是被一个运算创建的，所以它有一个 `grad_fn"
   ]
  },
  {
   "cell_type": "code",
   "execution_count": 4,
   "metadata": {},
   "outputs": [
    {
     "name": "stdout",
     "output_type": "stream",
     "text": [
      "<AddBackward0 object at 0x10ed66eb8>\n"
     ]
    }
   ],
   "source": [
    "print(y.grad_fn)"
   ]
  },
  {
   "cell_type": "markdown",
   "metadata": {},
   "source": [
    "在 `y` 上做更多的计算"
   ]
  },
  {
   "cell_type": "code",
   "execution_count": 5,
   "metadata": {},
   "outputs": [
    {
     "name": "stdout",
     "output_type": "stream",
     "text": [
      "tensor([[27., 27.],\n",
      "        [27., 27.]], grad_fn=<MulBackward0>) tensor(27., grad_fn=<MeanBackward0>)\n"
     ]
    }
   ],
   "source": [
    "z = y * y * 3\n",
    "out = z.mean()\n",
    "\n",
    "print(z, out)"
   ]
  },
  {
   "cell_type": "markdown",
   "metadata": {},
   "source": [
    "`.requires_grad_(...)` 改变了一个已存在 Tensor 的 `requires_grad` 的值.默认情况下这个值是 `Flase`"
   ]
  },
  {
   "cell_type": "code",
   "execution_count": 9,
   "metadata": {},
   "outputs": [
    {
     "name": "stdout",
     "output_type": "stream",
     "text": [
      "False\n",
      "None\n",
      "True\n",
      "<SumBackward0 object at 0x11c9cdef0>\n"
     ]
    }
   ],
   "source": [
    "a = torch.randn(2, 2)\n",
    "a = ((a * 3) / (a - 1))\n",
    "print(a.requires_grad)\n",
    "a.requires_grad_(True)\n",
    "print(a.requires_grad)\n",
    "b = (a * a).sum()\n",
    "print(b.grad_fn)"
   ]
  },
  {
   "cell_type": "markdown",
   "metadata": {},
   "source": [
    "## Gradients 梯度\n",
    "现在开始反向传播。由于输出包含一个单标量，所以 `out.backward()`"
   ]
  }
 ],
 "metadata": {
  "kernelspec": {
   "display_name": "Python 3",
   "language": "python",
   "name": "python3"
  },
  "language_info": {
   "codemirror_mode": {
    "name": "ipython",
    "version": 3
   },
   "file_extension": ".py",
   "mimetype": "text/x-python",
   "name": "python",
   "nbconvert_exporter": "python",
   "pygments_lexer": "ipython3",
   "version": "3.6.5"
  }
 },
 "nbformat": 4,
 "nbformat_minor": 2
}
